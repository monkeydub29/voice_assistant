{
 "cells": [
  {
   "cell_type": "code",
   "execution_count": 1,
   "metadata": {},
   "outputs": [
    {
     "name": "stdout",
     "output_type": "stream",
     "text": [
      "pygame 2.5.2 (SDL 2.28.3, Python 3.11.4)\n",
      "Hello from the pygame community. https://www.pygame.org/contribute.html\n"
     ]
    }
   ],
   "source": [
    "import speech_recognition as sr\n",
    "from gtts import gTTS\n",
    "import pygame\n",
    "import os\n",
    "import wolframalpha\n",
    "import pywhatkit"
   ]
  },
  {
   "cell_type": "code",
   "execution_count": 2,
   "metadata": {},
   "outputs": [],
   "source": [
    "wolfram_api = '8LQY83-RTHG64QQGG'\n",
    "\n",
    "def alex_listen():\n",
    "    r = sr.Recognizer()\n",
    "    with sr.Microphone() as source:\n",
    "        print(\"Listening...\")\n",
    "        audio = r.listen(source)\n",
    "        text = ''\n",
    "\n",
    "        try:\n",
    "            text = r.recognize_google(audio)\n",
    "        except sr.RequestError as re:\n",
    "            print(re)\n",
    "        except sr.UnknownValueError as uve:\n",
    "            print(uve)\n",
    "        except sr.WaitTimeoutError as wte:\n",
    "            print(wte)\n",
    "\n",
    "    text = text.lower()\n",
    "    return text\n",
    "\n",
    "def alex_talk(text, lang='en'):\n",
    "    tts = gTTS(text=text, lang=lang)\n",
    "    file_path = os.path.join(os.getcwd(), \"audio_data.mp3\")\n",
    "    tts.save(file_path)\n",
    "    pygame.mixer.init()\n",
    "    pygame.mixer.music.load(file_path)\n",
    "    pygame.mixer.music.play()\n",
    "    while pygame.mixer.music.get_busy():\n",
    "        pygame.time.Clock().tick(10)\n",
    "    pygame.mixer.quit()\n",
    "\n",
    "def alex_translate_speak(text):\n",
    "    if 'say in hindi' in text:\n",
    "        phrase = text.replace(\"say in hindi\", \"\").strip()\n",
    "        alex_talk(phrase, lang='hi')\n",
    "\n",
    "    elif 'say in tamil' in text:\n",
    "        phrase = text.replace(\"say in tamil\", \"\").strip()\n",
    "        alex_talk(phrase, lang='ta')\n",
    "\n",
    "    elif 'say in english' in text:\n",
    "        phrase = text.replace(\"say in english\", \"\").strip()\n",
    "        alex_talk(phrase, lang='en')\n",
    "\n",
    "    else:\n",
    "        alex_talk(\"Please say something like 'say in Hindi I am happy'.\")\n",
    "\n",
    "def wolfram_query(text):\n",
    "    client = wolframalpha.Client(wolfram_api)\n",
    "    try:\n",
    "        result = client.query(text)\n",
    "        answer = next(result.results).text\n",
    "        alex_talk(answer)\n",
    "    except Exception as e:\n",
    "        alex_talk(\"Sorry, I couldn't understand or compute that.\")\n",
    "        print(e)\n",
    "\n",
    "def alex_play_youtube(text):\n",
    "    try:\n",
    "        query = text.replace(\"play\", \"\").replace(\"on youtube\", \"\").strip()\n",
    "        alex_talk(f\"Playing {query} on YouTube\")\n",
    "        pywhatkit.playonyt(query)\n",
    "    except:\n",
    "        alex_talk(\"I couldn't open YouTube right now.\")\n",
    "\n",
    "def alex_reply(text):\n",
    "    if 'your name' in text:\n",
    "        alex_talk('My name is Alex, your personal assistant.')\n",
    "\n",
    "    elif 'why do you exist' in text:\n",
    "        alex_talk(\"I was created to assist you 24/7 with no holidays!\")\n",
    "\n",
    "    elif 'when do you sleep' in text:\n",
    "        alex_talk(\"I never sleep. I'm always here to help you.\")\n",
    "\n",
    "    elif 'are you stupid' in text:\n",
    "        alex_talk(\"I'm learning every day. I try my best, always!\")\n",
    "\n",
    "    elif 'favourite movie' in text:\n",
    "        alex_talk(\"My favorite movie is Titanic.\")\n",
    "\n",
    "    elif 'capital of' in text:\n",
    "        wolfram_query(text)\n",
    "\n",
    "    elif 'calculate' in text or 'solve' in text or 'math' in text:\n",
    "        wolfram_query(text)\n",
    "\n",
    "    elif 'what is' in text or 'who is' in text or 'how much' in text or 'distance' in text or 'convert' in text or 'time in' in text:\n",
    "        wolfram_query(text)\n",
    "\n",
    "    elif 'say in' in text:\n",
    "        alex_translate_speak(text)\n",
    "\n",
    "    elif 'play' in text and 'youtube' in text:\n",
    "        alex_play_youtube(text)\n",
    "\n",
    "    elif 'stop' in text or 'exit' in text:\n",
    "        alex_talk('It was a pleasure helping you. Goodbye!')\n",
    "        exit()\n",
    "\n",
    "    else:\n",
    "        alex_talk(\"I'm not sure I understood that. Can you repeat?\")\n",
    "\n"
   ]
  },
  {
   "cell_type": "code",
   "execution_count": 3,
   "metadata": {},
   "outputs": [
    {
     "name": "stdout",
     "output_type": "stream",
     "text": [
      "Listening...\n"
     ]
    },
    {
     "ename": "KeyboardInterrupt",
     "evalue": "",
     "output_type": "error",
     "traceback": [
      "\u001b[1;31m---------------------------------------------------------------------------\u001b[0m",
      "\u001b[1;31mKeyboardInterrupt\u001b[0m                         Traceback (most recent call last)",
      "Cell \u001b[1;32mIn[3], line 16\u001b[0m\n\u001b[0;32m     12\u001b[0m         \u001b[38;5;28;01mif\u001b[39;00m \u001b[38;5;124m'\u001b[39m\u001b[38;5;124mstop\u001b[39m\u001b[38;5;124m'\u001b[39m \u001b[38;5;129;01min\u001b[39;00m listen_alex:\n\u001b[0;32m     13\u001b[0m             \u001b[38;5;28;01mbreak\u001b[39;00m\n\u001b[1;32m---> 16\u001b[0m execute_assistant()\n",
      "Cell \u001b[1;32mIn[3], line 3\u001b[0m, in \u001b[0;36mexecute_assistant\u001b[1;34m()\u001b[0m\n\u001b[0;32m      1\u001b[0m \u001b[38;5;28;01mdef\u001b[39;00m \u001b[38;5;21mexecute_assistant\u001b[39m():\n\u001b[0;32m      2\u001b[0m     alex_talk(\u001b[38;5;124m'\u001b[39m\u001b[38;5;124mhi, I am here to support you. can you please tell me your name?\u001b[39m\u001b[38;5;124m'\u001b[39m)\n\u001b[1;32m----> 3\u001b[0m     listen_name \u001b[38;5;241m=\u001b[39m alex_listen()\n\u001b[0;32m      4\u001b[0m     \u001b[38;5;28mprint\u001b[39m(\u001b[38;5;124m\"\u001b[39m\u001b[38;5;124mUser\u001b[39m\u001b[38;5;124m'\u001b[39m\u001b[38;5;124ms name:\u001b[39m\u001b[38;5;124m\"\u001b[39m, listen_name)\n\u001b[0;32m      5\u001b[0m     alex_talk(\u001b[38;5;124m'\u001b[39m\u001b[38;5;124mHi \u001b[39m\u001b[38;5;124m'\u001b[39m \u001b[38;5;241m+\u001b[39m listen_name \u001b[38;5;241m+\u001b[39m \u001b[38;5;124m'\u001b[39m\u001b[38;5;124m what can I do for you?\u001b[39m\u001b[38;5;124m'\u001b[39m)  \u001b[38;5;66;03m# Corrected variable name\u001b[39;00m\n",
      "Cell \u001b[1;32mIn[2], line 7\u001b[0m, in \u001b[0;36malex_listen\u001b[1;34m()\u001b[0m\n\u001b[0;32m      5\u001b[0m \u001b[38;5;28;01mwith\u001b[39;00m sr\u001b[38;5;241m.\u001b[39mMicrophone() \u001b[38;5;28;01mas\u001b[39;00m source:\n\u001b[0;32m      6\u001b[0m     \u001b[38;5;28mprint\u001b[39m(\u001b[38;5;124m\"\u001b[39m\u001b[38;5;124mListening...\u001b[39m\u001b[38;5;124m\"\u001b[39m)\n\u001b[1;32m----> 7\u001b[0m     audio \u001b[38;5;241m=\u001b[39m r\u001b[38;5;241m.\u001b[39mlisten(source)\n\u001b[0;32m      8\u001b[0m     text \u001b[38;5;241m=\u001b[39m \u001b[38;5;124m'\u001b[39m\u001b[38;5;124m'\u001b[39m\n\u001b[0;32m     10\u001b[0m     \u001b[38;5;28;01mtry\u001b[39;00m:\n",
      "File \u001b[1;32mc:\\Users\\12323\\anaconda3\\Lib\\site-packages\\speech_recognition\\__init__.py:491\u001b[0m, in \u001b[0;36mRecognizer.listen\u001b[1;34m(self, source, timeout, phrase_time_limit, snowboy_configuration)\u001b[0m\n\u001b[0;32m    488\u001b[0m \u001b[38;5;28;01mif\u001b[39;00m timeout \u001b[38;5;129;01mand\u001b[39;00m elapsed_time \u001b[38;5;241m>\u001b[39m timeout:\n\u001b[0;32m    489\u001b[0m     \u001b[38;5;28;01mraise\u001b[39;00m WaitTimeoutError(\u001b[38;5;124m\"\u001b[39m\u001b[38;5;124mlistening timed out while waiting for phrase to start\u001b[39m\u001b[38;5;124m\"\u001b[39m)\n\u001b[1;32m--> 491\u001b[0m buffer \u001b[38;5;241m=\u001b[39m source\u001b[38;5;241m.\u001b[39mstream\u001b[38;5;241m.\u001b[39mread(source\u001b[38;5;241m.\u001b[39mCHUNK)\n\u001b[0;32m    492\u001b[0m \u001b[38;5;28;01mif\u001b[39;00m \u001b[38;5;28mlen\u001b[39m(buffer) \u001b[38;5;241m==\u001b[39m \u001b[38;5;241m0\u001b[39m: \u001b[38;5;28;01mbreak\u001b[39;00m  \u001b[38;5;66;03m# reached end of the stream\u001b[39;00m\n\u001b[0;32m    493\u001b[0m frames\u001b[38;5;241m.\u001b[39mappend(buffer)\n",
      "File \u001b[1;32mc:\\Users\\12323\\anaconda3\\Lib\\site-packages\\speech_recognition\\__init__.py:199\u001b[0m, in \u001b[0;36mMicrophone.MicrophoneStream.read\u001b[1;34m(self, size)\u001b[0m\n\u001b[0;32m    198\u001b[0m \u001b[38;5;28;01mdef\u001b[39;00m \u001b[38;5;21mread\u001b[39m(\u001b[38;5;28mself\u001b[39m, size):\n\u001b[1;32m--> 199\u001b[0m     \u001b[38;5;28;01mreturn\u001b[39;00m \u001b[38;5;28mself\u001b[39m\u001b[38;5;241m.\u001b[39mpyaudio_stream\u001b[38;5;241m.\u001b[39mread(size, exception_on_overflow\u001b[38;5;241m=\u001b[39m\u001b[38;5;28;01mFalse\u001b[39;00m)\n",
      "File \u001b[1;32mc:\\Users\\12323\\anaconda3\\Lib\\site-packages\\pyaudio\\__init__.py:570\u001b[0m, in \u001b[0;36mPyAudio.Stream.read\u001b[1;34m(self, num_frames, exception_on_overflow)\u001b[0m\n\u001b[0;32m    567\u001b[0m \u001b[38;5;28;01mif\u001b[39;00m \u001b[38;5;129;01mnot\u001b[39;00m \u001b[38;5;28mself\u001b[39m\u001b[38;5;241m.\u001b[39m_is_input:\n\u001b[0;32m    568\u001b[0m     \u001b[38;5;28;01mraise\u001b[39;00m \u001b[38;5;167;01mIOError\u001b[39;00m(\u001b[38;5;124m\"\u001b[39m\u001b[38;5;124mNot input stream\u001b[39m\u001b[38;5;124m\"\u001b[39m,\n\u001b[0;32m    569\u001b[0m                   paCanNotReadFromAnOutputOnlyStream)\n\u001b[1;32m--> 570\u001b[0m \u001b[38;5;28;01mreturn\u001b[39;00m pa\u001b[38;5;241m.\u001b[39mread_stream(\u001b[38;5;28mself\u001b[39m\u001b[38;5;241m.\u001b[39m_stream, num_frames,\n\u001b[0;32m    571\u001b[0m                       exception_on_overflow)\n",
      "\u001b[1;31mKeyboardInterrupt\u001b[0m: "
     ]
    }
   ],
   "source": [
    "def execute_assistant():\n",
    "    alex_talk('hi, I am here to support you. can you please tell me your name?')\n",
    "    listen_name = alex_listen()\n",
    "    print(\"User's name:\", listen_name)\n",
    "    alex_talk('Hi ' + listen_name + ' what can I do for you?')  # Corrected variable name\n",
    "    \n",
    "    while True:\n",
    "        listen_alex = alex_listen()\n",
    "        print(\"User input:\", listen_alex)\n",
    "        alex_reply(listen_alex)\n",
    "        \n",
    "        if 'stop' in listen_alex:\n",
    "            break\n",
    "        \n",
    "        \n",
    "execute_assistant()"
   ]
  }
 ],
 "metadata": {
  "kernelspec": {
   "display_name": "base",
   "language": "python",
   "name": "python3"
  },
  "language_info": {
   "codemirror_mode": {
    "name": "ipython",
    "version": 3
   },
   "file_extension": ".py",
   "mimetype": "text/x-python",
   "name": "python",
   "nbconvert_exporter": "python",
   "pygments_lexer": "ipython3",
   "version": "3.11.4"
  }
 },
 "nbformat": 4,
 "nbformat_minor": 2
}
